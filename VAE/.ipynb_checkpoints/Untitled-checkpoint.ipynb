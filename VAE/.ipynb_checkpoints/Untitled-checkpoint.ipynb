{
 "cells": [
  {
   "cell_type": "code",
   "execution_count": 8,
   "metadata": {
    "collapsed": false
   },
   "outputs": [],
   "source": [
    "#todo\n",
    "# - make colors not just black and white\n",
    "\n",
    "\n",
    "\n",
    "from PIL import Image\n",
    "import matplotlib.pyplot as plt\n",
    "%matplotlib inline\n",
    "import numpy as np\n",
    "import random\n",
    "import imageio"
   ]
  },
  {
   "cell_type": "code",
   "execution_count": 9,
   "metadata": {
    "collapsed": false
   },
   "outputs": [],
   "source": [
    "\n",
    "# n_frames = 10\n",
    "# f_height = 100\n",
    "# f_weight = 100\n",
    "# ball_size = 5\n",
    "\n",
    "# row = 3\n",
    "# speed = 2\n",
    "\n",
    "# grid = np.zeros([n_frames,f_height,f_weight])\n",
    "# for i in range(len(grid)):\n",
    "    \n",
    "#     hot = np.zeros([f_height,f_weight])\n",
    "#     hot[row:row+ball_size:1,i*speed:i*speed+ball_size:1] = 1\n",
    "#     grid[i] = hot\n",
    "\n",
    "\n",
    "\n",
    "# grid2 = np.zeros([5,100,100])\n",
    "# for i in range(len(grid2)):\n",
    "#     for j in range(i*20):\n",
    "#         for k in range(i*10):\n",
    "#             grid2[i][j][k] = 5."
   ]
  },
  {
   "cell_type": "code",
   "execution_count": 10,
   "metadata": {
    "collapsed": true
   },
   "outputs": [],
   "source": [
    "def make_ball_gif(n_frames=10, f_height=100, f_width=100, ball_size=5):\n",
    "    \n",
    "    row = random.randint(0,f_height-ball_size-1)\n",
    "    speed = random.randint(1,9)\n",
    "    \n",
    "    #gif = np.zeros([n_frames,f_height,f_width])\n",
    "    gif = []\n",
    "    for i in range(len(gif)):\n",
    "\n",
    "        hot = np.zeros([f_height,f_width])\n",
    "        hot[row:row+ball_size:1,i*speed:i*speed+ball_size:1] = 1+i\n",
    "        gif.append(hot.astype(uint8))\n",
    "        \n",
    "    return gif\n"
   ]
  },
  {
   "cell_type": "code",
   "execution_count": 11,
   "metadata": {
    "collapsed": false
   },
   "outputs": [],
   "source": [
    "# img = Image.fromarray(grid)\n",
    "# img = Image.fromarray(np.uint8(cm.gist_earth(myarray)*255))\n",
    "# img.show()\n",
    "# plt.imshow(img)"
   ]
  },
  {
   "cell_type": "code",
   "execution_count": 12,
   "metadata": {
    "collapsed": false
   },
   "outputs": [],
   "source": [
    "# img = gif[2]\n",
    "# plt.imshow(img)"
   ]
  },
  {
   "cell_type": "code",
   "execution_count": 13,
   "metadata": {
    "collapsed": false,
    "scrolled": true
   },
   "outputs": [],
   "source": [
    "# writeGif(filename=\"mygif.GIF\", images=gif, duration=0.2)\n",
    "# frames = makedelta(\"mygif.GIF\", gif)\n",
    "\n",
    "gif = make_ball_gif()\n",
    "\n",
    "kargs = { 'duration': .5 }\n",
    "imageio.mimsave(\"mygif.gif\", gif, 'GIF', **kargs)\n"
   ]
  },
  {
   "cell_type": "markdown",
   "metadata": {},
   "source": [
    "<img src=\"mygif.gif\">"
   ]
  },
  {
   "cell_type": "code",
   "execution_count": 14,
   "metadata": {
    "collapsed": false
   },
   "outputs": [],
   "source": [
    "# kargs = { 'duration': .5 }\n",
    "# imageio.mimsave(\"mygif2.gif\", grid2, 'GIF', **kargs)"
   ]
  },
  {
   "cell_type": "markdown",
   "metadata": {},
   "source": [
    "<img src=\"mygif2.gif\">"
   ]
  },
  {
   "cell_type": "code",
   "execution_count": null,
   "metadata": {
    "collapsed": true
   },
   "outputs": [],
   "source": []
  }
 ],
 "metadata": {
  "kernelspec": {
   "display_name": "Python 2",
   "language": "python",
   "name": "python2"
  },
  "language_info": {
   "codemirror_mode": {
    "name": "ipython",
    "version": 2
   },
   "file_extension": ".py",
   "mimetype": "text/x-python",
   "name": "python",
   "nbconvert_exporter": "python",
   "pygments_lexer": "ipython2",
   "version": "2.7.11"
  }
 },
 "nbformat": 4,
 "nbformat_minor": 0
}
